{
 "cells": [
  {
   "cell_type": "markdown",
   "metadata": {},
   "source": [
    "#  Todo App"
   ]
  },
  {
   "cell_type": "markdown",
   "metadata": {},
   "source": [
    "## First Way"
   ]
  },
  {
   "cell_type": "code",
   "execution_count": 1,
   "metadata": {},
   "outputs": [
    {
     "data": {
      "text/plain": [
       "['assignment', 'gym', 'game', 'work', 'learn', 'videos']"
      ]
     },
     "execution_count": 1,
     "metadata": {},
     "output_type": "execute_result"
    }
   ],
   "source": [
    "List = ['assignment' , 'gym' , 'game' , 'work', 'learn', 'videos']\n",
    "done=[]\n",
    "List"
   ]
  },
  {
   "cell_type": "code",
   "execution_count": 4,
   "metadata": {},
   "outputs": [
    {
     "name": "stdout",
     "output_type": "stream",
     "text": [
      "Which Work Done ??  gym\n",
      "['game', 'work', 'learn', 'videos']\n",
      "['assignment', 'gym']\n"
     ]
    }
   ],
   "source": [
    "Select = input('Which Work Done ??  ').lower() \n",
    "if Select in List:\n",
    "    save=List.index(Select)\n",
    "    List.pop(save)\n",
    "    done.append(Select)\n",
    "    \n",
    "    \n",
    "    print(List)\n",
    "    print(done)\n",
    "else:\n",
    "    print(\"Not In Your List\")"
   ]
  },
  {
   "cell_type": "markdown",
   "metadata": {},
   "source": [
    "## Second Way"
   ]
  },
  {
   "cell_type": "code",
   "execution_count": 39,
   "metadata": {},
   "outputs": [],
   "source": [
    "List = ['assignment' , 'gym' , 'game' , 'work', 'learn', 'videos']\n"
   ]
  },
  {
   "cell_type": "code",
   "execution_count": 59,
   "metadata": {},
   "outputs": [
    {
     "name": "stdout",
     "output_type": "stream",
     "text": [
      "Which Work Done ??  game\n"
     ]
    }
   ],
   "source": [
    "Select = input('Which Work Done ??  ').lower() "
   ]
  },
  {
   "cell_type": "code",
   "execution_count": 41,
   "metadata": {},
   "outputs": [],
   "source": [
    "done=[]"
   ]
  },
  {
   "cell_type": "code",
   "execution_count": 60,
   "metadata": {},
   "outputs": [
    {
     "name": "stdout",
     "output_type": "stream",
     "text": [
      "Remaining Work ['learn']\n",
      "Work Done!! ['gym', 'assignment', 'work', 'videos', 'game']\n"
     ]
    }
   ],
   "source": [
    "if Select in List:\n",
    "    save=List.index(Select)\n",
    "    List.pop(save)\n",
    "    done.append(Select)\n",
    "    \n",
    "    \n",
    "    print(\"Remaining Work\",List)\n",
    "    print(\"Work Done!!\",done)\n",
    "else:\n",
    "    print(\"Not In Your List\", List)"
   ]
  }
 ],
 "metadata": {
  "kernelspec": {
   "display_name": "Python 3",
   "language": "python",
   "name": "python3"
  },
  "language_info": {
   "codemirror_mode": {
    "name": "ipython",
    "version": 3
   },
   "file_extension": ".py",
   "mimetype": "text/x-python",
   "name": "python",
   "nbconvert_exporter": "python",
   "pygments_lexer": "ipython3",
   "version": "3.7.3"
  }
 },
 "nbformat": 4,
 "nbformat_minor": 2
}
