{
 "cells": [
  {
   "cell_type": "code",
   "execution_count": 1,
   "metadata": {},
   "outputs": [
    {
     "name": "stdout",
     "output_type": "stream",
     "text": [
      "         ****************************************************************************\n",
      "             ***********************MARKSHEET_2019****************************\n",
      "         ****************************************************************************\n",
      "Enter Your NameKULSOOM IQBAL\n",
      "Enter Your Roll No:2745503\n",
      "Enter English Marks:78\n",
      "Enter Urdu Marks:80\n",
      "Enter Maths Marks:70\n",
      "Enter Physics Marks:50\n",
      "Enter Islamiat Marks:90\n",
      "Enter Chemistry Marks:60\n"
     ]
    }
   ],
   "source": [
    "print('         ****************************************************************************')\n",
    "print('             ***********************MARKSHEET_2019****************************')\n",
    "print('         ****************************************************************************')\n",
    "\n",
    "name = input ('Enter Your Name')\n",
    "roll = int(input('Enter Your Roll No:'))\n",
    "\n",
    "en = int(input('Enter English Marks:'))\n",
    "ur = int(input('Enter Urdu Marks:'))\n",
    "ma = int(input('Enter Maths Marks:'))\n",
    "ph = int(input('Enter Physics Marks:'))\n",
    "il = int(input('Enter Islamiat Marks:'))\n",
    "ch = int(input('Enter Chemistry Marks:'))"
   ]
  },
  {
   "cell_type": "code",
   "execution_count": 11,
   "metadata": {},
   "outputs": [
    {
     "name": "stdout",
     "output_type": "stream",
     "text": [
      "73.79310344827586\n"
     ]
    }
   ],
   "source": [
    "en = 78\n",
    "ur = 80\n",
    "ma = 70\n",
    "ph = 50\n",
    "il = 90\n",
    "ch = 60\n",
    "print (int((en+ur+ma+ph+il+ch)*100)/580)"
   ]
  },
  {
   "cell_type": "code",
   "execution_count": 3,
   "metadata": {},
   "outputs": [
    {
     "name": "stdout",
     "output_type": "stream",
     "text": [
      "         ****************************************************************************\n",
      "             ***********************MARKSHEET_2019****************************\n",
      "         ****************************************************************************\n",
      "Enter Your NameKULSOOM IQBAL\n",
      "Enter Your Roll No:2745503\n",
      "Enter English Marks:80\n",
      "Enter Urdu Marks:93\n",
      "Enter Maths Marks:90\n",
      "Enter Physics Marks:75\n",
      "Enter Islamiat Marks:94\n",
      "Enter Chemistry Marks:81\n",
      "Obtain Marks:513\n",
      "*************\n",
      "Grade = A\n"
     ]
    }
   ],
   "source": [
    "print('         ****************************************************************************')\n",
    "print('             ***********************MARKSHEET_2019****************************')\n",
    "print('         ****************************************************************************')\n",
    "\n",
    "name = input ('Enter Your Name')\n",
    "roll = int(input('Enter Your Roll No:'))\n",
    "\n",
    "en = int(input('Enter English Marks:'))\n",
    "ur = int(input('Enter Urdu Marks:'))\n",
    "ma = int(input('Enter Maths Marks:'))\n",
    "ph = int(input('Enter Physics Marks:'))\n",
    "il = int(input('Enter Islamiat Marks:'))\n",
    "ch = int(input('Enter Chemistry Marks:'))\n",
    "obt = en + ur + ma + ph + il + ch \n",
    "print('Obtain Marks:'+str(obt))\n",
    "print('*************')\n",
    "total = 700\n",
    "\n",
    "per = round((obt/total*100))\n",
    "\n",
    "if per>=80:\n",
    "    print('Grade = A+')\n",
    "elif per>=70:\n",
    "    print('Grade = A' )\n",
    "elif per>=60:\n",
    "    print('Grade = B' )\n",
    "elif per>=50:\n",
    "    print('Grade = C' )\n",
    "else:\n",
    "    print('fail')"
   ]
  },
  {
   "cell_type": "markdown",
   "metadata": {},
   "source": [
    " "
   ]
  }
 ],
 "metadata": {
  "kernelspec": {
   "display_name": "Python 3",
   "language": "python",
   "name": "python3"
  },
  "language_info": {
   "codemirror_mode": {
    "name": "ipython",
    "version": 3
   },
   "file_extension": ".py",
   "mimetype": "text/x-python",
   "name": "python",
   "nbconvert_exporter": "python",
   "pygments_lexer": "ipython3",
   "version": "3.7.3"
  }
 },
 "nbformat": 4,
 "nbformat_minor": 2
}
